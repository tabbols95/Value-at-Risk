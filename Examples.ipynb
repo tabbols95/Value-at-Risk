{
 "cells": [
  {
   "cell_type": "code",
   "execution_count": 1,
   "id": "e601d317",
   "metadata": {},
   "outputs": [],
   "source": [
    "import pandas as pd\n",
    "import numpy as np\n",
    "import finance_func as ff"
   ]
  },
  {
   "cell_type": "markdown",
   "id": "083ae383",
   "metadata": {},
   "source": [
    "### Функция доходности\n",
    "\n",
    "```python\n",
    "change(data, periods=1)\n",
    "```\n",
    "\n",
    "Функция `change` принимает на вход данные в формате `pd.DataFrame` или `pd.Series`. А на выходе возвращает информацию того же формата о доходности финансового инструмента за промежуток времени\n",
    "\n",
    "$$\n",
    "\\delta = \\frac{V_{t}-V_{t-1}}{V_{t-1}}\n",
    "$$"
   ]
  },
  {
   "cell_type": "code",
   "execution_count": 2,
   "id": "5bef04bf",
   "metadata": {},
   "outputs": [],
   "source": [
    "# Series example\n",
    "s = pd.Series([2.36, np.nan, np.nan, 2.39, 2.25])"
   ]
  },
  {
   "cell_type": "code",
   "execution_count": 3,
   "id": "dc8e947a",
   "metadata": {},
   "outputs": [
    {
     "data": {
      "text/plain": [
       "0    2.36\n",
       "1     NaN\n",
       "2     NaN\n",
       "3    2.39\n",
       "4    2.25\n",
       "dtype: float64"
      ]
     },
     "execution_count": 3,
     "metadata": {},
     "output_type": "execute_result"
    }
   ],
   "source": [
    "s"
   ]
  },
  {
   "cell_type": "code",
   "execution_count": 4,
   "id": "aa16ad59",
   "metadata": {},
   "outputs": [
    {
     "data": {
      "text/plain": [
       "0         NaN\n",
       "1    0.000000\n",
       "2    0.000000\n",
       "3    0.012712\n",
       "4   -0.058577\n",
       "dtype: float64"
      ]
     },
     "execution_count": 4,
     "metadata": {},
     "output_type": "execute_result"
    }
   ],
   "source": [
    "ff.change(s)"
   ]
  },
  {
   "cell_type": "code",
   "execution_count": 5,
   "id": "71f40b33",
   "metadata": {},
   "outputs": [],
   "source": [
    "# DataFrame example\n",
    "df = pd.DataFrame({\n",
    "    'TST1': [85, 86, 29],\n",
    "    'TST2': [36.2, 37.8, 39.9],\n",
    "    'TST3': [0.1685, np.nan, 0.1683]})"
   ]
  },
  {
   "cell_type": "code",
   "execution_count": 6,
   "id": "e5146b71",
   "metadata": {},
   "outputs": [
    {
     "data": {
      "text/html": [
       "<div>\n",
       "<style scoped>\n",
       "    .dataframe tbody tr th:only-of-type {\n",
       "        vertical-align: middle;\n",
       "    }\n",
       "\n",
       "    .dataframe tbody tr th {\n",
       "        vertical-align: top;\n",
       "    }\n",
       "\n",
       "    .dataframe thead th {\n",
       "        text-align: right;\n",
       "    }\n",
       "</style>\n",
       "<table border=\"1\" class=\"dataframe\">\n",
       "  <thead>\n",
       "    <tr style=\"text-align: right;\">\n",
       "      <th></th>\n",
       "      <th>TST1</th>\n",
       "      <th>TST2</th>\n",
       "      <th>TST3</th>\n",
       "    </tr>\n",
       "  </thead>\n",
       "  <tbody>\n",
       "    <tr>\n",
       "      <th>0</th>\n",
       "      <td>85</td>\n",
       "      <td>36.2</td>\n",
       "      <td>0.1685</td>\n",
       "    </tr>\n",
       "    <tr>\n",
       "      <th>1</th>\n",
       "      <td>86</td>\n",
       "      <td>37.8</td>\n",
       "      <td>NaN</td>\n",
       "    </tr>\n",
       "    <tr>\n",
       "      <th>2</th>\n",
       "      <td>29</td>\n",
       "      <td>39.9</td>\n",
       "      <td>0.1683</td>\n",
       "    </tr>\n",
       "  </tbody>\n",
       "</table>\n",
       "</div>"
      ],
      "text/plain": [
       "   TST1  TST2    TST3\n",
       "0    85  36.2  0.1685\n",
       "1    86  37.8     NaN\n",
       "2    29  39.9  0.1683"
      ]
     },
     "execution_count": 6,
     "metadata": {},
     "output_type": "execute_result"
    }
   ],
   "source": [
    "df"
   ]
  },
  {
   "cell_type": "code",
   "execution_count": 7,
   "id": "13e9fcac",
   "metadata": {},
   "outputs": [
    {
     "data": {
      "text/html": [
       "<div>\n",
       "<style scoped>\n",
       "    .dataframe tbody tr th:only-of-type {\n",
       "        vertical-align: middle;\n",
       "    }\n",
       "\n",
       "    .dataframe tbody tr th {\n",
       "        vertical-align: top;\n",
       "    }\n",
       "\n",
       "    .dataframe thead th {\n",
       "        text-align: right;\n",
       "    }\n",
       "</style>\n",
       "<table border=\"1\" class=\"dataframe\">\n",
       "  <thead>\n",
       "    <tr style=\"text-align: right;\">\n",
       "      <th></th>\n",
       "      <th>TST1</th>\n",
       "      <th>TST2</th>\n",
       "      <th>TST3</th>\n",
       "    </tr>\n",
       "  </thead>\n",
       "  <tbody>\n",
       "    <tr>\n",
       "      <th>0</th>\n",
       "      <td>NaN</td>\n",
       "      <td>NaN</td>\n",
       "      <td>NaN</td>\n",
       "    </tr>\n",
       "    <tr>\n",
       "      <th>1</th>\n",
       "      <td>0.011765</td>\n",
       "      <td>0.044199</td>\n",
       "      <td>0.000000</td>\n",
       "    </tr>\n",
       "    <tr>\n",
       "      <th>2</th>\n",
       "      <td>-0.662791</td>\n",
       "      <td>0.055556</td>\n",
       "      <td>-0.001187</td>\n",
       "    </tr>\n",
       "  </tbody>\n",
       "</table>\n",
       "</div>"
      ],
      "text/plain": [
       "       TST1      TST2      TST3\n",
       "0       NaN       NaN       NaN\n",
       "1  0.011765  0.044199  0.000000\n",
       "2 -0.662791  0.055556 -0.001187"
      ]
     },
     "execution_count": 7,
     "metadata": {},
     "output_type": "execute_result"
    }
   ],
   "source": [
    "ff.change(df)"
   ]
  },
  {
   "cell_type": "markdown",
   "id": "2c10fbff",
   "metadata": {},
   "source": [
    "### Функция изменчивости данных\n",
    "\n",
    "```python\n",
    "change_ln(data, periods=1)\n",
    "```\n",
    "\n",
    "Функция `change_ln` принимает на вход данные в формате `pd.DataFrame` или `pd.Series`. А на выходе возвращает информацию того же формата об изменчивости данных.\n",
    "\n",
    "$$\n",
    "\\delta_{t} = \\ln{\\frac{V_{t}}{V_{t-1}}}\n",
    "$$\n",
    "\n",
    "С математической точки зрения, в отличие от функции `change`, логарифм показывает относительное изменение.\n",
    "\n",
    "```\n",
    ">>> s = pd.Series([28, 30, 28])\n",
    ">>> ff.change(s)\n",
    "0         NaN\n",
    "1    0.071429\n",
    "2   -0.066667\n",
    "dtype: float64\n",
    "\n",
    ">>> ff.change_ln(s)\n",
    "0         NaN\n",
    "1    0.068993\n",
    "2   -0.068993\n",
    "dtype: float64\n",
    "```\n",
    "Т.е. в первом случае стоимость финансового инструмента сначала выросла на 7.14%, а затем снизилась на 6.67%. Хотя конечная стоимость не отличается от первоначальной. А во втором случае наблюдается такая картина, что стоимость финансового инструмента сначала выросла на 6.7%, а затем снизилась также на 6.7%."
   ]
  },
  {
   "cell_type": "code",
   "execution_count": 8,
   "id": "d64f16e2",
   "metadata": {},
   "outputs": [],
   "source": [
    "# Series example\n",
    "s = pd.Series([28, 30, 28], name='TST')"
   ]
  },
  {
   "cell_type": "code",
   "execution_count": 9,
   "id": "343b03a1",
   "metadata": {},
   "outputs": [
    {
     "data": {
      "text/plain": [
       "0    28\n",
       "1    30\n",
       "2    28\n",
       "Name: TST, dtype: int64"
      ]
     },
     "execution_count": 9,
     "metadata": {},
     "output_type": "execute_result"
    }
   ],
   "source": [
    "s"
   ]
  },
  {
   "cell_type": "code",
   "execution_count": 10,
   "id": "32bb6799",
   "metadata": {},
   "outputs": [
    {
     "data": {
      "text/plain": [
       "0         NaN\n",
       "1    0.068993\n",
       "2   -0.068993\n",
       "Name: TST, dtype: float64"
      ]
     },
     "execution_count": 10,
     "metadata": {},
     "output_type": "execute_result"
    }
   ],
   "source": [
    "ff.change_ln(s)"
   ]
  },
  {
   "cell_type": "code",
   "execution_count": 11,
   "id": "7c83b6f9",
   "metadata": {},
   "outputs": [],
   "source": [
    "# Series example\n",
    "s = pd.Series([np.nan, 12, np.nan, np.nan, 12.5, 12.85, 12.83])"
   ]
  },
  {
   "cell_type": "code",
   "execution_count": 12,
   "id": "cac42354",
   "metadata": {},
   "outputs": [
    {
     "data": {
      "text/plain": [
       "0      NaN\n",
       "1    12.00\n",
       "2      NaN\n",
       "3      NaN\n",
       "4    12.50\n",
       "5    12.85\n",
       "6    12.83\n",
       "dtype: float64"
      ]
     },
     "execution_count": 12,
     "metadata": {},
     "output_type": "execute_result"
    }
   ],
   "source": [
    "s"
   ]
  },
  {
   "cell_type": "code",
   "execution_count": 13,
   "id": "40d63774",
   "metadata": {},
   "outputs": [
    {
     "data": {
      "text/plain": [
       "0         NaN\n",
       "1         NaN\n",
       "2    0.000000\n",
       "3    0.000000\n",
       "4    0.040822\n",
       "5    0.027615\n",
       "6   -0.001558\n",
       "dtype: float64"
      ]
     },
     "execution_count": 13,
     "metadata": {},
     "output_type": "execute_result"
    }
   ],
   "source": [
    "ff.change_ln(s)"
   ]
  },
  {
   "cell_type": "code",
   "execution_count": 14,
   "id": "aa9456b5",
   "metadata": {},
   "outputs": [],
   "source": [
    "# DataFrame example\n",
    "df = pd.DataFrame({\n",
    "    'TST1': [85, 86, 29],\n",
    "    'TST2': [36.2, 37.8, 39.9],\n",
    "    'TST3': [0.1685, np.nan, 0.1683]})"
   ]
  },
  {
   "cell_type": "code",
   "execution_count": 15,
   "id": "c26c6942",
   "metadata": {},
   "outputs": [
    {
     "data": {
      "text/html": [
       "<div>\n",
       "<style scoped>\n",
       "    .dataframe tbody tr th:only-of-type {\n",
       "        vertical-align: middle;\n",
       "    }\n",
       "\n",
       "    .dataframe tbody tr th {\n",
       "        vertical-align: top;\n",
       "    }\n",
       "\n",
       "    .dataframe thead th {\n",
       "        text-align: right;\n",
       "    }\n",
       "</style>\n",
       "<table border=\"1\" class=\"dataframe\">\n",
       "  <thead>\n",
       "    <tr style=\"text-align: right;\">\n",
       "      <th></th>\n",
       "      <th>TST1</th>\n",
       "      <th>TST2</th>\n",
       "      <th>TST3</th>\n",
       "    </tr>\n",
       "  </thead>\n",
       "  <tbody>\n",
       "    <tr>\n",
       "      <th>0</th>\n",
       "      <td>85</td>\n",
       "      <td>36.2</td>\n",
       "      <td>0.1685</td>\n",
       "    </tr>\n",
       "    <tr>\n",
       "      <th>1</th>\n",
       "      <td>86</td>\n",
       "      <td>37.8</td>\n",
       "      <td>NaN</td>\n",
       "    </tr>\n",
       "    <tr>\n",
       "      <th>2</th>\n",
       "      <td>29</td>\n",
       "      <td>39.9</td>\n",
       "      <td>0.1683</td>\n",
       "    </tr>\n",
       "  </tbody>\n",
       "</table>\n",
       "</div>"
      ],
      "text/plain": [
       "   TST1  TST2    TST3\n",
       "0    85  36.2  0.1685\n",
       "1    86  37.8     NaN\n",
       "2    29  39.9  0.1683"
      ]
     },
     "execution_count": 15,
     "metadata": {},
     "output_type": "execute_result"
    }
   ],
   "source": [
    "df"
   ]
  },
  {
   "cell_type": "code",
   "execution_count": 16,
   "id": "3d259a1b",
   "metadata": {},
   "outputs": [
    {
     "data": {
      "text/html": [
       "<div>\n",
       "<style scoped>\n",
       "    .dataframe tbody tr th:only-of-type {\n",
       "        vertical-align: middle;\n",
       "    }\n",
       "\n",
       "    .dataframe tbody tr th {\n",
       "        vertical-align: top;\n",
       "    }\n",
       "\n",
       "    .dataframe thead th {\n",
       "        text-align: right;\n",
       "    }\n",
       "</style>\n",
       "<table border=\"1\" class=\"dataframe\">\n",
       "  <thead>\n",
       "    <tr style=\"text-align: right;\">\n",
       "      <th></th>\n",
       "      <th>TST1</th>\n",
       "      <th>TST2</th>\n",
       "      <th>TST3</th>\n",
       "    </tr>\n",
       "  </thead>\n",
       "  <tbody>\n",
       "    <tr>\n",
       "      <th>0</th>\n",
       "      <td>NaN</td>\n",
       "      <td>NaN</td>\n",
       "      <td>NaN</td>\n",
       "    </tr>\n",
       "    <tr>\n",
       "      <th>1</th>\n",
       "      <td>0.011696</td>\n",
       "      <td>0.043250</td>\n",
       "      <td>0.000000</td>\n",
       "    </tr>\n",
       "    <tr>\n",
       "      <th>2</th>\n",
       "      <td>-1.087051</td>\n",
       "      <td>0.054067</td>\n",
       "      <td>-0.001188</td>\n",
       "    </tr>\n",
       "  </tbody>\n",
       "</table>\n",
       "</div>"
      ],
      "text/plain": [
       "       TST1      TST2      TST3\n",
       "0       NaN       NaN       NaN\n",
       "1  0.011696  0.043250  0.000000\n",
       "2 -1.087051  0.054067 -0.001188"
      ]
     },
     "execution_count": 16,
     "metadata": {},
     "output_type": "execute_result"
    }
   ],
   "source": [
    "ff.change_ln(df)"
   ]
  },
  {
   "cell_type": "code",
   "execution_count": 17,
   "id": "00fce1fb",
   "metadata": {},
   "outputs": [
    {
     "data": {
      "text/plain": [
       "0      NaN\n",
       "1    12.00\n",
       "2      NaN\n",
       "3      NaN\n",
       "4    12.50\n",
       "5    12.85\n",
       "6    12.83\n",
       "dtype: float64"
      ]
     },
     "execution_count": 17,
     "metadata": {},
     "output_type": "execute_result"
    }
   ],
   "source": [
    "s"
   ]
  },
  {
   "cell_type": "markdown",
   "id": "76bc774a",
   "metadata": {},
   "source": [
    "### Волатильность\n",
    "\n",
    "```python\n",
    "volat(data, periods=1, axis=0, flag_change=True)\n",
    "```\n",
    "\n",
    "Если `flag_change` (`default=True`) принимает стандартное значение, то волатильность расчитыватеся как процентное отношение между текущим и предыдущим значением. В противном случае рассчитывается по принципу логарифмической изменчивости."
   ]
  },
  {
   "cell_type": "code",
   "execution_count": 18,
   "id": "37df9cf3",
   "metadata": {},
   "outputs": [],
   "source": [
    "s = pd.Series([12.36, 12.25, np.nan, np.nan, 11.85, 11.93])"
   ]
  },
  {
   "cell_type": "code",
   "execution_count": 19,
   "id": "34790698",
   "metadata": {},
   "outputs": [
    {
     "data": {
      "text/plain": [
       "0    12.36\n",
       "1    12.25\n",
       "2      NaN\n",
       "3      NaN\n",
       "4    11.85\n",
       "5    11.93\n",
       "dtype: float64"
      ]
     },
     "execution_count": 19,
     "metadata": {},
     "output_type": "execute_result"
    }
   ],
   "source": [
    "s"
   ]
  },
  {
   "cell_type": "code",
   "execution_count": 20,
   "id": "25ed9997",
   "metadata": {},
   "outputs": [
    {
     "data": {
      "text/plain": [
       "0.01540107110011917"
      ]
     },
     "execution_count": 20,
     "metadata": {},
     "output_type": "execute_result"
    }
   ],
   "source": [
    "ff.vlt(s)"
   ]
  },
  {
   "cell_type": "code",
   "execution_count": 21,
   "id": "7ee1db6f",
   "metadata": {},
   "outputs": [
    {
     "data": {
      "text/plain": [
       "0.015624781360881121"
      ]
     },
     "execution_count": 21,
     "metadata": {},
     "output_type": "execute_result"
    }
   ],
   "source": [
    "ff.vlt(s, flag_change=False)"
   ]
  },
  {
   "cell_type": "code",
   "execution_count": 22,
   "id": "a4ff29a6",
   "metadata": {},
   "outputs": [],
   "source": [
    "df = pd.DataFrame({\n",
    "    'TST1': [85, 86, 29],\n",
    "    'TST2': [36.2, 37.8, 39.9],\n",
    "    'TST3': [0.1685, np.nan, 0.1683]})"
   ]
  },
  {
   "cell_type": "code",
   "execution_count": 23,
   "id": "35136eea",
   "metadata": {},
   "outputs": [
    {
     "data": {
      "text/html": [
       "<div>\n",
       "<style scoped>\n",
       "    .dataframe tbody tr th:only-of-type {\n",
       "        vertical-align: middle;\n",
       "    }\n",
       "\n",
       "    .dataframe tbody tr th {\n",
       "        vertical-align: top;\n",
       "    }\n",
       "\n",
       "    .dataframe thead th {\n",
       "        text-align: right;\n",
       "    }\n",
       "</style>\n",
       "<table border=\"1\" class=\"dataframe\">\n",
       "  <thead>\n",
       "    <tr style=\"text-align: right;\">\n",
       "      <th></th>\n",
       "      <th>TST1</th>\n",
       "      <th>TST2</th>\n",
       "      <th>TST3</th>\n",
       "    </tr>\n",
       "  </thead>\n",
       "  <tbody>\n",
       "    <tr>\n",
       "      <th>0</th>\n",
       "      <td>85</td>\n",
       "      <td>36.2</td>\n",
       "      <td>0.1685</td>\n",
       "    </tr>\n",
       "    <tr>\n",
       "      <th>1</th>\n",
       "      <td>86</td>\n",
       "      <td>37.8</td>\n",
       "      <td>NaN</td>\n",
       "    </tr>\n",
       "    <tr>\n",
       "      <th>2</th>\n",
       "      <td>29</td>\n",
       "      <td>39.9</td>\n",
       "      <td>0.1683</td>\n",
       "    </tr>\n",
       "  </tbody>\n",
       "</table>\n",
       "</div>"
      ],
      "text/plain": [
       "   TST1  TST2    TST3\n",
       "0    85  36.2  0.1685\n",
       "1    86  37.8     NaN\n",
       "2    29  39.9  0.1683"
      ]
     },
     "execution_count": 23,
     "metadata": {},
     "output_type": "execute_result"
    }
   ],
   "source": [
    "df"
   ]
  },
  {
   "cell_type": "code",
   "execution_count": 24,
   "id": "aa15bfd4",
   "metadata": {},
   "outputs": [
    {
     "data": {
      "text/plain": [
       "TST1    0.476983\n",
       "TST2    0.008030\n",
       "TST3    0.000839\n",
       "dtype: float64"
      ]
     },
     "execution_count": 24,
     "metadata": {},
     "output_type": "execute_result"
    }
   ],
   "source": [
    "ff.vlt(df)"
   ]
  },
  {
   "cell_type": "code",
   "execution_count": 25,
   "id": "4c607fc3",
   "metadata": {},
   "outputs": [
    {
     "data": {
      "text/plain": [
       "TST1    0.776932\n",
       "TST2    0.007649\n",
       "TST3    0.000840\n",
       "dtype: float64"
      ]
     },
     "execution_count": 25,
     "metadata": {},
     "output_type": "execute_result"
    }
   ],
   "source": [
    "ff.vlt(df, flag_change=False)"
   ]
  },
  {
   "cell_type": "code",
   "execution_count": null,
   "id": "4e90fec3",
   "metadata": {},
   "outputs": [],
   "source": []
  }
 ],
 "metadata": {
  "kernelspec": {
   "display_name": "Python 3 (ipykernel)",
   "language": "python",
   "name": "python3"
  },
  "language_info": {
   "codemirror_mode": {
    "name": "ipython",
    "version": 3
   },
   "file_extension": ".py",
   "mimetype": "text/x-python",
   "name": "python",
   "nbconvert_exporter": "python",
   "pygments_lexer": "ipython3",
   "version": "3.9.13"
  }
 },
 "nbformat": 4,
 "nbformat_minor": 5
}
