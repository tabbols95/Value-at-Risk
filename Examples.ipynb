{
 "cells": [
  {
   "cell_type": "code",
   "execution_count": 1,
   "id": "e601d317",
   "metadata": {},
   "outputs": [],
   "source": [
    "import pandas as pd\n",
    "import numpy as np\n",
    "import finance_func as ff"
   ]
  },
  {
   "cell_type": "code",
   "execution_count": 2,
   "id": "1cc2ae05",
   "metadata": {},
   "outputs": [],
   "source": [
    "df = pd.read_csv('BYN_RC_F01_01_2005_T31_12_2018.csv')"
   ]
  },
  {
   "cell_type": "code",
   "execution_count": 3,
   "id": "1fd6c16e",
   "metadata": {},
   "outputs": [
    {
     "data": {
      "text/html": [
       "<div>\n",
       "<style scoped>\n",
       "    .dataframe tbody tr th:only-of-type {\n",
       "        vertical-align: middle;\n",
       "    }\n",
       "\n",
       "    .dataframe tbody tr th {\n",
       "        vertical-align: top;\n",
       "    }\n",
       "\n",
       "    .dataframe thead th {\n",
       "        text-align: right;\n",
       "    }\n",
       "</style>\n",
       "<table border=\"1\" class=\"dataframe\">\n",
       "  <thead>\n",
       "    <tr style=\"text-align: right;\">\n",
       "      <th></th>\n",
       "      <th>nominal</th>\n",
       "      <th>data</th>\n",
       "      <th>curs</th>\n",
       "      <th>cdx</th>\n",
       "    </tr>\n",
       "  </thead>\n",
       "  <tbody>\n",
       "    <tr>\n",
       "      <th>0</th>\n",
       "      <td>1</td>\n",
       "      <td>2018-12-30</td>\n",
       "      <td>32.0732</td>\n",
       "      <td>Белорусский рубль</td>\n",
       "    </tr>\n",
       "    <tr>\n",
       "      <th>1</th>\n",
       "      <td>1</td>\n",
       "      <td>2018-12-29</td>\n",
       "      <td>32.1935</td>\n",
       "      <td>Белорусский рубль</td>\n",
       "    </tr>\n",
       "    <tr>\n",
       "      <th>2</th>\n",
       "      <td>1</td>\n",
       "      <td>2018-12-28</td>\n",
       "      <td>32.0503</td>\n",
       "      <td>Белорусский рубль</td>\n",
       "    </tr>\n",
       "    <tr>\n",
       "      <th>3</th>\n",
       "      <td>1</td>\n",
       "      <td>2018-12-27</td>\n",
       "      <td>32.0805</td>\n",
       "      <td>Белорусский рубль</td>\n",
       "    </tr>\n",
       "    <tr>\n",
       "      <th>4</th>\n",
       "      <td>1</td>\n",
       "      <td>2018-12-26</td>\n",
       "      <td>32.1237</td>\n",
       "      <td>Белорусский рубль</td>\n",
       "    </tr>\n",
       "  </tbody>\n",
       "</table>\n",
       "</div>"
      ],
      "text/plain": [
       "   nominal        data     curs                cdx\n",
       "0        1  2018-12-30  32.0732  Белорусский рубль\n",
       "1        1  2018-12-29  32.1935  Белорусский рубль\n",
       "2        1  2018-12-28  32.0503  Белорусский рубль\n",
       "3        1  2018-12-27  32.0805  Белорусский рубль\n",
       "4        1  2018-12-26  32.1237  Белорусский рубль"
      ]
     },
     "execution_count": 3,
     "metadata": {},
     "output_type": "execute_result"
    }
   ],
   "source": [
    "df.head()"
   ]
  },
  {
   "cell_type": "code",
   "execution_count": 4,
   "id": "f3f3865a",
   "metadata": {},
   "outputs": [
    {
     "name": "stdout",
     "output_type": "stream",
     "text": [
      "<class 'pandas.core.frame.DataFrame'>\n",
      "RangeIndex: 3472 entries, 0 to 3471\n",
      "Data columns (total 4 columns):\n",
      " #   Column   Non-Null Count  Dtype  \n",
      "---  ------   --------------  -----  \n",
      " 0   nominal  3472 non-null   int64  \n",
      " 1   data     3472 non-null   object \n",
      " 2   curs     3472 non-null   float64\n",
      " 3   cdx      3472 non-null   object \n",
      "dtypes: float64(1), int64(1), object(2)\n",
      "memory usage: 108.6+ KB\n"
     ]
    }
   ],
   "source": [
    "df.info()"
   ]
  },
  {
   "cell_type": "code",
   "execution_count": 5,
   "id": "ba9db9e7",
   "metadata": {},
   "outputs": [],
   "source": [
    "df['data'] = pd.to_datetime(df.data, format='%Y-%m-%d')"
   ]
  },
  {
   "cell_type": "code",
   "execution_count": 6,
   "id": "3356fd6e",
   "metadata": {},
   "outputs": [],
   "source": [
    "# Посмотрим волатильность курса за 2018 год\n",
    "df_curs_2018 = df \\\n",
    "    .assign(year=df.data.dt.year) \\\n",
    "    .query('year==2018') \\\n",
    "    .sort_values('data', ascending=True)[['curs']] \\\n",
    "    .reset_index(drop=True)"
   ]
  },
  {
   "cell_type": "code",
   "execution_count": 7,
   "id": "745b7c06",
   "metadata": {},
   "outputs": [],
   "source": [
    "s = pd.Series([20, 25, 27.2], name='TST')"
   ]
  },
  {
   "cell_type": "code",
   "execution_count": 8,
   "id": "3e98993a",
   "metadata": {},
   "outputs": [
    {
     "data": {
      "text/plain": [
       "0    20.0\n",
       "1    25.0\n",
       "2    27.2\n",
       "Name: TST, dtype: float64"
      ]
     },
     "execution_count": 8,
     "metadata": {},
     "output_type": "execute_result"
    }
   ],
   "source": [
    "s"
   ]
  },
  {
   "cell_type": "code",
   "execution_count": 9,
   "id": "6810b018",
   "metadata": {},
   "outputs": [
    {
     "data": {
      "text/plain": [
       "0      NaN\n",
       "1    0.250\n",
       "2    0.088\n",
       "Name: TST, dtype: float64"
      ]
     },
     "execution_count": 9,
     "metadata": {},
     "output_type": "execute_result"
    }
   ],
   "source": [
    "ff.change(s)"
   ]
  },
  {
   "cell_type": "code",
   "execution_count": 10,
   "id": "3d92b256",
   "metadata": {},
   "outputs": [],
   "source": [
    "df = pd.DataFrame({\n",
    "    'TST0': [1.365, 1.352, 1.587],\n",
    "    'TST1': [865.39, 901.12, 899.02],\n",
    "    'TST2': [12.83, np.nan, 12.95]},\n",
    "    index=['2022-01-01', '2022-01-02', '2022-01-03'])"
   ]
  },
  {
   "cell_type": "code",
   "execution_count": 11,
   "id": "422da5b9",
   "metadata": {},
   "outputs": [
    {
     "data": {
      "text/html": [
       "<div>\n",
       "<style scoped>\n",
       "    .dataframe tbody tr th:only-of-type {\n",
       "        vertical-align: middle;\n",
       "    }\n",
       "\n",
       "    .dataframe tbody tr th {\n",
       "        vertical-align: top;\n",
       "    }\n",
       "\n",
       "    .dataframe thead th {\n",
       "        text-align: right;\n",
       "    }\n",
       "</style>\n",
       "<table border=\"1\" class=\"dataframe\">\n",
       "  <thead>\n",
       "    <tr style=\"text-align: right;\">\n",
       "      <th></th>\n",
       "      <th>TST0</th>\n",
       "      <th>TST1</th>\n",
       "      <th>TST2</th>\n",
       "    </tr>\n",
       "  </thead>\n",
       "  <tbody>\n",
       "    <tr>\n",
       "      <th>2022-01-01</th>\n",
       "      <td>1.365</td>\n",
       "      <td>865.39</td>\n",
       "      <td>12.83</td>\n",
       "    </tr>\n",
       "    <tr>\n",
       "      <th>2022-01-02</th>\n",
       "      <td>1.352</td>\n",
       "      <td>901.12</td>\n",
       "      <td>NaN</td>\n",
       "    </tr>\n",
       "    <tr>\n",
       "      <th>2022-01-03</th>\n",
       "      <td>1.587</td>\n",
       "      <td>899.02</td>\n",
       "      <td>12.95</td>\n",
       "    </tr>\n",
       "  </tbody>\n",
       "</table>\n",
       "</div>"
      ],
      "text/plain": [
       "             TST0    TST1   TST2\n",
       "2022-01-01  1.365  865.39  12.83\n",
       "2022-01-02  1.352  901.12    NaN\n",
       "2022-01-03  1.587  899.02  12.95"
      ]
     },
     "execution_count": 11,
     "metadata": {},
     "output_type": "execute_result"
    }
   ],
   "source": [
    "df"
   ]
  },
  {
   "cell_type": "code",
   "execution_count": 12,
   "id": "fab7f24d",
   "metadata": {},
   "outputs": [
    {
     "data": {
      "text/html": [
       "<div>\n",
       "<style scoped>\n",
       "    .dataframe tbody tr th:only-of-type {\n",
       "        vertical-align: middle;\n",
       "    }\n",
       "\n",
       "    .dataframe tbody tr th {\n",
       "        vertical-align: top;\n",
       "    }\n",
       "\n",
       "    .dataframe thead th {\n",
       "        text-align: right;\n",
       "    }\n",
       "</style>\n",
       "<table border=\"1\" class=\"dataframe\">\n",
       "  <thead>\n",
       "    <tr style=\"text-align: right;\">\n",
       "      <th></th>\n",
       "      <th>TST0</th>\n",
       "      <th>TST1</th>\n",
       "      <th>TST2</th>\n",
       "    </tr>\n",
       "  </thead>\n",
       "  <tbody>\n",
       "    <tr>\n",
       "      <th>2022-01-01</th>\n",
       "      <td>NaN</td>\n",
       "      <td>NaN</td>\n",
       "      <td>NaN</td>\n",
       "    </tr>\n",
       "    <tr>\n",
       "      <th>2022-01-02</th>\n",
       "      <td>-0.009524</td>\n",
       "      <td>0.041288</td>\n",
       "      <td>0.000000</td>\n",
       "    </tr>\n",
       "    <tr>\n",
       "      <th>2022-01-03</th>\n",
       "      <td>0.173817</td>\n",
       "      <td>-0.002330</td>\n",
       "      <td>0.009353</td>\n",
       "    </tr>\n",
       "  </tbody>\n",
       "</table>\n",
       "</div>"
      ],
      "text/plain": [
       "                TST0      TST1      TST2\n",
       "2022-01-01       NaN       NaN       NaN\n",
       "2022-01-02 -0.009524  0.041288  0.000000\n",
       "2022-01-03  0.173817 -0.002330  0.009353"
      ]
     },
     "execution_count": 12,
     "metadata": {},
     "output_type": "execute_result"
    }
   ],
   "source": [
    "ff.change(df)"
   ]
  },
  {
   "cell_type": "markdown",
   "id": "8f4e3c81",
   "metadata": {},
   "source": [
    "### Функция изменчивости данных\n",
    "\n",
    "```python\n",
    "change_ln(data, periods=1)\n",
    "```\n",
    "\n",
    "Функция `change_ln` принимает на вход данные в формате `pd.DataFrame` или `pd.Series`. А на выходе возвращает информацию того же формата об изменчивости данных.\n",
    "\n",
    "$$\n",
    "\\delta_{t} = \\ln{\\frac{V_{t}}{V_{t-1}}}\n",
    "$$\n",
    "\n",
    "С математической точки зрения, в отличие от функции `change`, логарифм показывает относительное изменение.\n",
    "\n",
    "```\n",
    ">>> s = pd.Series([28, 30, 28])\n",
    ">>> ff.change(s)\n",
    "0         NaN\n",
    "1    0.071429\n",
    "2   -0.066667\n",
    "dtype: float64\n",
    "\n",
    ">>> ff.change_ln(s)\n",
    "0         NaN\n",
    "1    0.068993\n",
    "2   -0.068993\n",
    "dtype: float64\n",
    "```\n",
    "Т.е. в первом случае стоимость финансового инструмента сначала выросла на 7.14%, а затем снизилась на 6.67%. Хотя конечная стоимость не отличается от первоначальной. А во втором случае наблюдается такая картина, что стоимость финансового инструмента сначала выросла на 6.7%, а затем снизилась также на 6.7%."
   ]
  },
  {
   "cell_type": "code",
   "execution_count": 22,
   "id": "e0f8658b",
   "metadata": {},
   "outputs": [],
   "source": [
    "# Series example\n",
    "s = pd.Series([28, 30, 28], name='TST')"
   ]
  },
  {
   "cell_type": "code",
   "execution_count": 23,
   "id": "4b67d6e0",
   "metadata": {},
   "outputs": [
    {
     "data": {
      "text/plain": [
       "0    28\n",
       "1    30\n",
       "2    28\n",
       "Name: TST, dtype: int64"
      ]
     },
     "execution_count": 23,
     "metadata": {},
     "output_type": "execute_result"
    }
   ],
   "source": [
    "s"
   ]
  },
  {
   "cell_type": "code",
   "execution_count": 24,
   "id": "6996b5f9",
   "metadata": {},
   "outputs": [
    {
     "data": {
      "text/plain": [
       "0         NaN\n",
       "1    0.068993\n",
       "2   -0.068993\n",
       "Name: TST, dtype: float64"
      ]
     },
     "execution_count": 24,
     "metadata": {},
     "output_type": "execute_result"
    }
   ],
   "source": [
    "ff.change_ln(s)"
   ]
  },
  {
   "cell_type": "code",
   "execution_count": 25,
   "id": "9f59609f",
   "metadata": {},
   "outputs": [],
   "source": [
    "# Series example\n",
    "s = pd.Series([np.nan, 12, np.nan, np.nan, 12.5, 12.85, 12.83])"
   ]
  },
  {
   "cell_type": "code",
   "execution_count": 26,
   "id": "625a6292",
   "metadata": {},
   "outputs": [
    {
     "data": {
      "text/plain": [
       "0      NaN\n",
       "1    12.00\n",
       "2      NaN\n",
       "3      NaN\n",
       "4    12.50\n",
       "5    12.85\n",
       "6    12.83\n",
       "dtype: float64"
      ]
     },
     "execution_count": 26,
     "metadata": {},
     "output_type": "execute_result"
    }
   ],
   "source": [
    "s"
   ]
  },
  {
   "cell_type": "code",
   "execution_count": 27,
   "id": "cbad5d6b",
   "metadata": {},
   "outputs": [
    {
     "data": {
      "text/plain": [
       "0         NaN\n",
       "1         NaN\n",
       "2    0.000000\n",
       "3    0.000000\n",
       "4    0.040822\n",
       "5    0.027615\n",
       "6   -0.001558\n",
       "dtype: float64"
      ]
     },
     "execution_count": 27,
     "metadata": {},
     "output_type": "execute_result"
    }
   ],
   "source": [
    "ff.change_ln(s)"
   ]
  },
  {
   "cell_type": "code",
   "execution_count": 30,
   "id": "fc03140b",
   "metadata": {},
   "outputs": [],
   "source": [
    "# DataFrame example\n",
    "df = pd.DataFrame({\n",
    "    'TST1': [85, 86, 29],\n",
    "    'TST2': [36.2, 37.8, 39.9],\n",
    "    'TST3': [0.1685, np.nan, 0.1683]})"
   ]
  },
  {
   "cell_type": "code",
   "execution_count": 31,
   "id": "1e50094e",
   "metadata": {},
   "outputs": [
    {
     "data": {
      "text/html": [
       "<div>\n",
       "<style scoped>\n",
       "    .dataframe tbody tr th:only-of-type {\n",
       "        vertical-align: middle;\n",
       "    }\n",
       "\n",
       "    .dataframe tbody tr th {\n",
       "        vertical-align: top;\n",
       "    }\n",
       "\n",
       "    .dataframe thead th {\n",
       "        text-align: right;\n",
       "    }\n",
       "</style>\n",
       "<table border=\"1\" class=\"dataframe\">\n",
       "  <thead>\n",
       "    <tr style=\"text-align: right;\">\n",
       "      <th></th>\n",
       "      <th>TST1</th>\n",
       "      <th>TST2</th>\n",
       "      <th>TST3</th>\n",
       "    </tr>\n",
       "  </thead>\n",
       "  <tbody>\n",
       "    <tr>\n",
       "      <th>0</th>\n",
       "      <td>85</td>\n",
       "      <td>36.2</td>\n",
       "      <td>0.1685</td>\n",
       "    </tr>\n",
       "    <tr>\n",
       "      <th>1</th>\n",
       "      <td>86</td>\n",
       "      <td>37.8</td>\n",
       "      <td>NaN</td>\n",
       "    </tr>\n",
       "    <tr>\n",
       "      <th>2</th>\n",
       "      <td>29</td>\n",
       "      <td>39.9</td>\n",
       "      <td>0.1683</td>\n",
       "    </tr>\n",
       "  </tbody>\n",
       "</table>\n",
       "</div>"
      ],
      "text/plain": [
       "   TST1  TST2    TST3\n",
       "0    85  36.2  0.1685\n",
       "1    86  37.8     NaN\n",
       "2    29  39.9  0.1683"
      ]
     },
     "execution_count": 31,
     "metadata": {},
     "output_type": "execute_result"
    }
   ],
   "source": [
    "df"
   ]
  },
  {
   "cell_type": "code",
   "execution_count": 32,
   "id": "d85a4dd7",
   "metadata": {},
   "outputs": [
    {
     "data": {
      "text/html": [
       "<div>\n",
       "<style scoped>\n",
       "    .dataframe tbody tr th:only-of-type {\n",
       "        vertical-align: middle;\n",
       "    }\n",
       "\n",
       "    .dataframe tbody tr th {\n",
       "        vertical-align: top;\n",
       "    }\n",
       "\n",
       "    .dataframe thead th {\n",
       "        text-align: right;\n",
       "    }\n",
       "</style>\n",
       "<table border=\"1\" class=\"dataframe\">\n",
       "  <thead>\n",
       "    <tr style=\"text-align: right;\">\n",
       "      <th></th>\n",
       "      <th>TST1</th>\n",
       "      <th>TST2</th>\n",
       "      <th>TST3</th>\n",
       "    </tr>\n",
       "  </thead>\n",
       "  <tbody>\n",
       "    <tr>\n",
       "      <th>0</th>\n",
       "      <td>NaN</td>\n",
       "      <td>NaN</td>\n",
       "      <td>NaN</td>\n",
       "    </tr>\n",
       "    <tr>\n",
       "      <th>1</th>\n",
       "      <td>0.011696</td>\n",
       "      <td>0.043250</td>\n",
       "      <td>0.000000</td>\n",
       "    </tr>\n",
       "    <tr>\n",
       "      <th>2</th>\n",
       "      <td>-1.087051</td>\n",
       "      <td>0.054067</td>\n",
       "      <td>-0.001188</td>\n",
       "    </tr>\n",
       "  </tbody>\n",
       "</table>\n",
       "</div>"
      ],
      "text/plain": [
       "       TST1      TST2      TST3\n",
       "0       NaN       NaN       NaN\n",
       "1  0.011696  0.043250  0.000000\n",
       "2 -1.087051  0.054067 -0.001188"
      ]
     },
     "execution_count": 32,
     "metadata": {},
     "output_type": "execute_result"
    }
   ],
   "source": [
    "ff.change_ln(df)"
   ]
  },
  {
   "cell_type": "code",
   "execution_count": null,
   "id": "634bd400",
   "metadata": {},
   "outputs": [],
   "source": []
  }
 ],
 "metadata": {
  "kernelspec": {
   "display_name": "Python 3 (ipykernel)",
   "language": "python",
   "name": "python3"
  },
  "language_info": {
   "codemirror_mode": {
    "name": "ipython",
    "version": 3
   },
   "file_extension": ".py",
   "mimetype": "text/x-python",
   "name": "python",
   "nbconvert_exporter": "python",
   "pygments_lexer": "ipython3",
   "version": "3.9.13"
  }
 },
 "nbformat": 4,
 "nbformat_minor": 5
}
