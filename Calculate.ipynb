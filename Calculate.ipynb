{
 "cells": [
  {
   "cell_type": "code",
   "execution_count": 1,
   "id": "e601d317",
   "metadata": {},
   "outputs": [],
   "source": [
    "import pandas as pd\n",
    "import numpy as np\n",
    "import finance_func as ff"
   ]
  },
  {
   "cell_type": "code",
   "execution_count": 2,
   "id": "1cc2ae05",
   "metadata": {},
   "outputs": [],
   "source": [
    "df = pd.read_csv('BYN_RC_F01_01_2005_T31_12_2018.csv')"
   ]
  },
  {
   "cell_type": "code",
   "execution_count": 3,
   "id": "1fd6c16e",
   "metadata": {},
   "outputs": [
    {
     "data": {
      "text/html": [
       "<div>\n",
       "<style scoped>\n",
       "    .dataframe tbody tr th:only-of-type {\n",
       "        vertical-align: middle;\n",
       "    }\n",
       "\n",
       "    .dataframe tbody tr th {\n",
       "        vertical-align: top;\n",
       "    }\n",
       "\n",
       "    .dataframe thead th {\n",
       "        text-align: right;\n",
       "    }\n",
       "</style>\n",
       "<table border=\"1\" class=\"dataframe\">\n",
       "  <thead>\n",
       "    <tr style=\"text-align: right;\">\n",
       "      <th></th>\n",
       "      <th>nominal</th>\n",
       "      <th>data</th>\n",
       "      <th>curs</th>\n",
       "      <th>cdx</th>\n",
       "    </tr>\n",
       "  </thead>\n",
       "  <tbody>\n",
       "    <tr>\n",
       "      <th>0</th>\n",
       "      <td>1</td>\n",
       "      <td>2018-12-30</td>\n",
       "      <td>32.0732</td>\n",
       "      <td>Белорусский рубль</td>\n",
       "    </tr>\n",
       "    <tr>\n",
       "      <th>1</th>\n",
       "      <td>1</td>\n",
       "      <td>2018-12-29</td>\n",
       "      <td>32.1935</td>\n",
       "      <td>Белорусский рубль</td>\n",
       "    </tr>\n",
       "    <tr>\n",
       "      <th>2</th>\n",
       "      <td>1</td>\n",
       "      <td>2018-12-28</td>\n",
       "      <td>32.0503</td>\n",
       "      <td>Белорусский рубль</td>\n",
       "    </tr>\n",
       "    <tr>\n",
       "      <th>3</th>\n",
       "      <td>1</td>\n",
       "      <td>2018-12-27</td>\n",
       "      <td>32.0805</td>\n",
       "      <td>Белорусский рубль</td>\n",
       "    </tr>\n",
       "    <tr>\n",
       "      <th>4</th>\n",
       "      <td>1</td>\n",
       "      <td>2018-12-26</td>\n",
       "      <td>32.1237</td>\n",
       "      <td>Белорусский рубль</td>\n",
       "    </tr>\n",
       "  </tbody>\n",
       "</table>\n",
       "</div>"
      ],
      "text/plain": [
       "   nominal        data     curs                cdx\n",
       "0        1  2018-12-30  32.0732  Белорусский рубль\n",
       "1        1  2018-12-29  32.1935  Белорусский рубль\n",
       "2        1  2018-12-28  32.0503  Белорусский рубль\n",
       "3        1  2018-12-27  32.0805  Белорусский рубль\n",
       "4        1  2018-12-26  32.1237  Белорусский рубль"
      ]
     },
     "execution_count": 3,
     "metadata": {},
     "output_type": "execute_result"
    }
   ],
   "source": [
    "df.head()"
   ]
  },
  {
   "cell_type": "code",
   "execution_count": 4,
   "id": "f3f3865a",
   "metadata": {},
   "outputs": [
    {
     "name": "stdout",
     "output_type": "stream",
     "text": [
      "<class 'pandas.core.frame.DataFrame'>\n",
      "RangeIndex: 3472 entries, 0 to 3471\n",
      "Data columns (total 4 columns):\n",
      " #   Column   Non-Null Count  Dtype  \n",
      "---  ------   --------------  -----  \n",
      " 0   nominal  3472 non-null   int64  \n",
      " 1   data     3472 non-null   object \n",
      " 2   curs     3472 non-null   float64\n",
      " 3   cdx      3472 non-null   object \n",
      "dtypes: float64(1), int64(1), object(2)\n",
      "memory usage: 108.6+ KB\n"
     ]
    }
   ],
   "source": [
    "df.info()"
   ]
  },
  {
   "cell_type": "code",
   "execution_count": 5,
   "id": "ba9db9e7",
   "metadata": {},
   "outputs": [],
   "source": [
    "df['data'] = pd.to_datetime(df.data, format='%Y-%m-%d')"
   ]
  },
  {
   "cell_type": "code",
   "execution_count": 6,
   "id": "3356fd6e",
   "metadata": {},
   "outputs": [],
   "source": [
    "# Посмотрим волатильность курса за 2018 год\n",
    "df_curs_2018 = df \\\n",
    "    .assign(year=df.data.dt.year) \\\n",
    "    .query('year==2018') \\\n",
    "    .sort_values('data', ascending=True)[['curs']] \\\n",
    "    .reset_index(drop=True)"
   ]
  },
  {
   "cell_type": "code",
   "execution_count": 7,
   "id": "ede318f5",
   "metadata": {},
   "outputs": [],
   "source": [
    "s = pd.Series([20, 25, 27.2], name='TST')"
   ]
  },
  {
   "cell_type": "code",
   "execution_count": 8,
   "id": "4c69790e",
   "metadata": {},
   "outputs": [
    {
     "data": {
      "text/plain": [
       "0    20.0\n",
       "1    25.0\n",
       "2    27.2\n",
       "Name: TST, dtype: float64"
      ]
     },
     "execution_count": 8,
     "metadata": {},
     "output_type": "execute_result"
    }
   ],
   "source": [
    "s"
   ]
  },
  {
   "cell_type": "code",
   "execution_count": 9,
   "id": "d5eb04e7",
   "metadata": {},
   "outputs": [
    {
     "data": {
      "text/plain": [
       "0      NaN\n",
       "1    0.250\n",
       "2    0.088\n",
       "Name: TST, dtype: float64"
      ]
     },
     "execution_count": 9,
     "metadata": {},
     "output_type": "execute_result"
    }
   ],
   "source": [
    "ff.change(s)"
   ]
  },
  {
   "cell_type": "code",
   "execution_count": 10,
   "id": "fe6b5812",
   "metadata": {},
   "outputs": [],
   "source": [
    "df = pd.DataFrame({\n",
    "    'TST0': [1.365, 1.352, 1.587],\n",
    "    'TST1': [865.39, 901.12, 899.02],\n",
    "    'TST2': [12.83, np.nan, 12.95]},\n",
    "    index=['2022-01-01', '2022-01-02', '2022-01-03'])"
   ]
  },
  {
   "cell_type": "code",
   "execution_count": 11,
   "id": "ad13a1a1",
   "metadata": {},
   "outputs": [
    {
     "data": {
      "text/html": [
       "<div>\n",
       "<style scoped>\n",
       "    .dataframe tbody tr th:only-of-type {\n",
       "        vertical-align: middle;\n",
       "    }\n",
       "\n",
       "    .dataframe tbody tr th {\n",
       "        vertical-align: top;\n",
       "    }\n",
       "\n",
       "    .dataframe thead th {\n",
       "        text-align: right;\n",
       "    }\n",
       "</style>\n",
       "<table border=\"1\" class=\"dataframe\">\n",
       "  <thead>\n",
       "    <tr style=\"text-align: right;\">\n",
       "      <th></th>\n",
       "      <th>TST0</th>\n",
       "      <th>TST1</th>\n",
       "      <th>TST2</th>\n",
       "    </tr>\n",
       "  </thead>\n",
       "  <tbody>\n",
       "    <tr>\n",
       "      <th>2022-01-01</th>\n",
       "      <td>1.365</td>\n",
       "      <td>865.39</td>\n",
       "      <td>12.83</td>\n",
       "    </tr>\n",
       "    <tr>\n",
       "      <th>2022-01-02</th>\n",
       "      <td>1.352</td>\n",
       "      <td>901.12</td>\n",
       "      <td>NaN</td>\n",
       "    </tr>\n",
       "    <tr>\n",
       "      <th>2022-01-03</th>\n",
       "      <td>1.587</td>\n",
       "      <td>899.02</td>\n",
       "      <td>12.95</td>\n",
       "    </tr>\n",
       "  </tbody>\n",
       "</table>\n",
       "</div>"
      ],
      "text/plain": [
       "             TST0    TST1   TST2\n",
       "2022-01-01  1.365  865.39  12.83\n",
       "2022-01-02  1.352  901.12    NaN\n",
       "2022-01-03  1.587  899.02  12.95"
      ]
     },
     "execution_count": 11,
     "metadata": {},
     "output_type": "execute_result"
    }
   ],
   "source": [
    "df"
   ]
  },
  {
   "cell_type": "code",
   "execution_count": 12,
   "id": "7ad60efc",
   "metadata": {},
   "outputs": [
    {
     "data": {
      "text/html": [
       "<div>\n",
       "<style scoped>\n",
       "    .dataframe tbody tr th:only-of-type {\n",
       "        vertical-align: middle;\n",
       "    }\n",
       "\n",
       "    .dataframe tbody tr th {\n",
       "        vertical-align: top;\n",
       "    }\n",
       "\n",
       "    .dataframe thead th {\n",
       "        text-align: right;\n",
       "    }\n",
       "</style>\n",
       "<table border=\"1\" class=\"dataframe\">\n",
       "  <thead>\n",
       "    <tr style=\"text-align: right;\">\n",
       "      <th></th>\n",
       "      <th>TST0</th>\n",
       "      <th>TST1</th>\n",
       "      <th>TST2</th>\n",
       "    </tr>\n",
       "  </thead>\n",
       "  <tbody>\n",
       "    <tr>\n",
       "      <th>2022-01-01</th>\n",
       "      <td>NaN</td>\n",
       "      <td>NaN</td>\n",
       "      <td>NaN</td>\n",
       "    </tr>\n",
       "    <tr>\n",
       "      <th>2022-01-02</th>\n",
       "      <td>-0.009524</td>\n",
       "      <td>0.041288</td>\n",
       "      <td>0.000000</td>\n",
       "    </tr>\n",
       "    <tr>\n",
       "      <th>2022-01-03</th>\n",
       "      <td>0.173817</td>\n",
       "      <td>-0.002330</td>\n",
       "      <td>0.009353</td>\n",
       "    </tr>\n",
       "  </tbody>\n",
       "</table>\n",
       "</div>"
      ],
      "text/plain": [
       "                TST0      TST1      TST2\n",
       "2022-01-01       NaN       NaN       NaN\n",
       "2022-01-02 -0.009524  0.041288  0.000000\n",
       "2022-01-03  0.173817 -0.002330  0.009353"
      ]
     },
     "execution_count": 12,
     "metadata": {},
     "output_type": "execute_result"
    }
   ],
   "source": [
    "ff.change(df)"
   ]
  },
  {
   "cell_type": "code",
   "execution_count": 13,
   "id": "82fd09a7",
   "metadata": {},
   "outputs": [
    {
     "data": {
      "text/plain": [
       "'MsgError: data type pandas.DataFrame or pandas.Series'"
      ]
     },
     "execution_count": 13,
     "metadata": {},
     "output_type": "execute_result"
    }
   ],
   "source": [
    "ff.change(55)"
   ]
  },
  {
   "cell_type": "code",
   "execution_count": null,
   "id": "e7e40da1",
   "metadata": {},
   "outputs": [],
   "source": []
  }
 ],
 "metadata": {
  "kernelspec": {
   "display_name": "Python 3 (ipykernel)",
   "language": "python",
   "name": "python3"
  },
  "language_info": {
   "codemirror_mode": {
    "name": "ipython",
    "version": 3
   },
   "file_extension": ".py",
   "mimetype": "text/x-python",
   "name": "python",
   "nbconvert_exporter": "python",
   "pygments_lexer": "ipython3",
   "version": "3.9.13"
  }
 },
 "nbformat": 4,
 "nbformat_minor": 5
}
