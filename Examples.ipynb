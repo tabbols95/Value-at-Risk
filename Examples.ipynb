{
 "cells": [
  {
   "cell_type": "code",
   "execution_count": 1,
   "id": "e601d317",
   "metadata": {},
   "outputs": [],
   "source": [
    "import pandas as pd\n",
    "import numpy as np\n",
    "import finance_func as ff"
   ]
  },
  {
   "cell_type": "markdown",
   "id": "9e045942",
   "metadata": {},
   "source": [
    "### Функция доходности\n",
    "\n",
    "```python\n",
    "change(data, periods=1)\n",
    "```\n",
    "\n",
    "Функция `change` принимает на вход данные в формате `pd.DataFrame` или `pd.Series`. А на выходе возвращает информацию того же формата о доходности финансового инструмента за промежуток времени\n",
    "\n",
    "$$\n",
    "\\delta = \\frac{V_{t}-V_{t-1}}{V_{t-1}}\n",
    "$$"
   ]
  },
  {
   "cell_type": "code",
   "execution_count": 13,
   "id": "3ff4d0db",
   "metadata": {},
   "outputs": [],
   "source": [
    "# Series example\n",
    "s = pd.Series([2.36, np.nan, np.nan, 2.39, 2.25])"
   ]
  },
  {
   "cell_type": "code",
   "execution_count": 14,
   "id": "763b9489",
   "metadata": {},
   "outputs": [
    {
     "data": {
      "text/plain": [
       "0    2.36\n",
       "1     NaN\n",
       "2     NaN\n",
       "3    2.39\n",
       "4    2.25\n",
       "dtype: float64"
      ]
     },
     "execution_count": 14,
     "metadata": {},
     "output_type": "execute_result"
    }
   ],
   "source": [
    "s"
   ]
  },
  {
   "cell_type": "code",
   "execution_count": 15,
   "id": "1c26bb3b",
   "metadata": {},
   "outputs": [
    {
     "data": {
      "text/plain": [
       "0         NaN\n",
       "1    0.000000\n",
       "2    0.000000\n",
       "3    0.012712\n",
       "4   -0.058577\n",
       "dtype: float64"
      ]
     },
     "execution_count": 15,
     "metadata": {},
     "output_type": "execute_result"
    }
   ],
   "source": [
    "ff.change(s)"
   ]
  },
  {
   "cell_type": "code",
   "execution_count": 16,
   "id": "c64265b3",
   "metadata": {},
   "outputs": [],
   "source": [
    "# DataFrame example\n",
    "df = pd.DataFrame({\n",
    "    'TST1': [85, 86, 29],\n",
    "    'TST2': [36.2, 37.8, 39.9],\n",
    "    'TST3': [0.1685, np.nan, 0.1683]})"
   ]
  },
  {
   "cell_type": "code",
   "execution_count": 17,
   "id": "2e9217ac",
   "metadata": {},
   "outputs": [
    {
     "data": {
      "text/html": [
       "<div>\n",
       "<style scoped>\n",
       "    .dataframe tbody tr th:only-of-type {\n",
       "        vertical-align: middle;\n",
       "    }\n",
       "\n",
       "    .dataframe tbody tr th {\n",
       "        vertical-align: top;\n",
       "    }\n",
       "\n",
       "    .dataframe thead th {\n",
       "        text-align: right;\n",
       "    }\n",
       "</style>\n",
       "<table border=\"1\" class=\"dataframe\">\n",
       "  <thead>\n",
       "    <tr style=\"text-align: right;\">\n",
       "      <th></th>\n",
       "      <th>TST1</th>\n",
       "      <th>TST2</th>\n",
       "      <th>TST3</th>\n",
       "    </tr>\n",
       "  </thead>\n",
       "  <tbody>\n",
       "    <tr>\n",
       "      <th>0</th>\n",
       "      <td>85</td>\n",
       "      <td>36.2</td>\n",
       "      <td>0.1685</td>\n",
       "    </tr>\n",
       "    <tr>\n",
       "      <th>1</th>\n",
       "      <td>86</td>\n",
       "      <td>37.8</td>\n",
       "      <td>NaN</td>\n",
       "    </tr>\n",
       "    <tr>\n",
       "      <th>2</th>\n",
       "      <td>29</td>\n",
       "      <td>39.9</td>\n",
       "      <td>0.1683</td>\n",
       "    </tr>\n",
       "  </tbody>\n",
       "</table>\n",
       "</div>"
      ],
      "text/plain": [
       "   TST1  TST2    TST3\n",
       "0    85  36.2  0.1685\n",
       "1    86  37.8     NaN\n",
       "2    29  39.9  0.1683"
      ]
     },
     "execution_count": 17,
     "metadata": {},
     "output_type": "execute_result"
    }
   ],
   "source": [
    "df"
   ]
  },
  {
   "cell_type": "code",
   "execution_count": 18,
   "id": "e1f5a6e4",
   "metadata": {},
   "outputs": [
    {
     "data": {
      "text/html": [
       "<div>\n",
       "<style scoped>\n",
       "    .dataframe tbody tr th:only-of-type {\n",
       "        vertical-align: middle;\n",
       "    }\n",
       "\n",
       "    .dataframe tbody tr th {\n",
       "        vertical-align: top;\n",
       "    }\n",
       "\n",
       "    .dataframe thead th {\n",
       "        text-align: right;\n",
       "    }\n",
       "</style>\n",
       "<table border=\"1\" class=\"dataframe\">\n",
       "  <thead>\n",
       "    <tr style=\"text-align: right;\">\n",
       "      <th></th>\n",
       "      <th>TST1</th>\n",
       "      <th>TST2</th>\n",
       "      <th>TST3</th>\n",
       "    </tr>\n",
       "  </thead>\n",
       "  <tbody>\n",
       "    <tr>\n",
       "      <th>0</th>\n",
       "      <td>NaN</td>\n",
       "      <td>NaN</td>\n",
       "      <td>NaN</td>\n",
       "    </tr>\n",
       "    <tr>\n",
       "      <th>1</th>\n",
       "      <td>0.011765</td>\n",
       "      <td>0.044199</td>\n",
       "      <td>0.000000</td>\n",
       "    </tr>\n",
       "    <tr>\n",
       "      <th>2</th>\n",
       "      <td>-0.662791</td>\n",
       "      <td>0.055556</td>\n",
       "      <td>-0.001187</td>\n",
       "    </tr>\n",
       "  </tbody>\n",
       "</table>\n",
       "</div>"
      ],
      "text/plain": [
       "       TST1      TST2      TST3\n",
       "0       NaN       NaN       NaN\n",
       "1  0.011765  0.044199  0.000000\n",
       "2 -0.662791  0.055556 -0.001187"
      ]
     },
     "execution_count": 18,
     "metadata": {},
     "output_type": "execute_result"
    }
   ],
   "source": [
    "ff.change(df)"
   ]
  },
  {
   "cell_type": "markdown",
   "id": "82363070",
   "metadata": {},
   "source": [
    "### Функция изменчивости данных\n",
    "\n",
    "```python\n",
    "change_ln(data, periods=1)\n",
    "```\n",
    "\n",
    "Функция `change_ln` принимает на вход данные в формате `pd.DataFrame` или `pd.Series`. А на выходе возвращает информацию того же формата об изменчивости данных.\n",
    "\n",
    "$$\n",
    "\\delta_{t} = \\ln{\\frac{V_{t}}{V_{t-1}}}\n",
    "$$\n",
    "\n",
    "С математической точки зрения, в отличие от функции `change`, логарифм показывает относительное изменение.\n",
    "\n",
    "```\n",
    ">>> s = pd.Series([28, 30, 28])\n",
    ">>> ff.change(s)\n",
    "0         NaN\n",
    "1    0.071429\n",
    "2   -0.066667\n",
    "dtype: float64\n",
    "\n",
    ">>> ff.change_ln(s)\n",
    "0         NaN\n",
    "1    0.068993\n",
    "2   -0.068993\n",
    "dtype: float64\n",
    "```\n",
    "Т.е. в первом случае стоимость финансового инструмента сначала выросла на 7.14%, а затем снизилась на 6.67%. Хотя конечная стоимость не отличается от первоначальной. А во втором случае наблюдается такая картина, что стоимость финансового инструмента сначала выросла на 6.7%, а затем снизилась также на 6.7%."
   ]
  },
  {
   "cell_type": "code",
   "execution_count": 19,
   "id": "cc981472",
   "metadata": {},
   "outputs": [],
   "source": [
    "# Series example\n",
    "s = pd.Series([28, 30, 28], name='TST')"
   ]
  },
  {
   "cell_type": "code",
   "execution_count": 20,
   "id": "af944254",
   "metadata": {},
   "outputs": [
    {
     "data": {
      "text/plain": [
       "0    28\n",
       "1    30\n",
       "2    28\n",
       "Name: TST, dtype: int64"
      ]
     },
     "execution_count": 20,
     "metadata": {},
     "output_type": "execute_result"
    }
   ],
   "source": [
    "s"
   ]
  },
  {
   "cell_type": "code",
   "execution_count": 21,
   "id": "9465f075",
   "metadata": {},
   "outputs": [
    {
     "data": {
      "text/plain": [
       "0         NaN\n",
       "1    0.068993\n",
       "2   -0.068993\n",
       "Name: TST, dtype: float64"
      ]
     },
     "execution_count": 21,
     "metadata": {},
     "output_type": "execute_result"
    }
   ],
   "source": [
    "ff.change_ln(s)"
   ]
  },
  {
   "cell_type": "code",
   "execution_count": 22,
   "id": "a97e432d",
   "metadata": {},
   "outputs": [],
   "source": [
    "# Series example\n",
    "s = pd.Series([np.nan, 12, np.nan, np.nan, 12.5, 12.85, 12.83])"
   ]
  },
  {
   "cell_type": "code",
   "execution_count": 23,
   "id": "e753c802",
   "metadata": {},
   "outputs": [
    {
     "data": {
      "text/plain": [
       "0      NaN\n",
       "1    12.00\n",
       "2      NaN\n",
       "3      NaN\n",
       "4    12.50\n",
       "5    12.85\n",
       "6    12.83\n",
       "dtype: float64"
      ]
     },
     "execution_count": 23,
     "metadata": {},
     "output_type": "execute_result"
    }
   ],
   "source": [
    "s"
   ]
  },
  {
   "cell_type": "code",
   "execution_count": 24,
   "id": "fc784b6d",
   "metadata": {},
   "outputs": [
    {
     "data": {
      "text/plain": [
       "0         NaN\n",
       "1         NaN\n",
       "2    0.000000\n",
       "3    0.000000\n",
       "4    0.040822\n",
       "5    0.027615\n",
       "6   -0.001558\n",
       "dtype: float64"
      ]
     },
     "execution_count": 24,
     "metadata": {},
     "output_type": "execute_result"
    }
   ],
   "source": [
    "ff.change_ln(s)"
   ]
  },
  {
   "cell_type": "code",
   "execution_count": 25,
   "id": "f7f06e36",
   "metadata": {},
   "outputs": [],
   "source": [
    "# DataFrame example\n",
    "df = pd.DataFrame({\n",
    "    'TST1': [85, 86, 29],\n",
    "    'TST2': [36.2, 37.8, 39.9],\n",
    "    'TST3': [0.1685, np.nan, 0.1683]})"
   ]
  },
  {
   "cell_type": "code",
   "execution_count": 26,
   "id": "b3f41be9",
   "metadata": {},
   "outputs": [
    {
     "data": {
      "text/html": [
       "<div>\n",
       "<style scoped>\n",
       "    .dataframe tbody tr th:only-of-type {\n",
       "        vertical-align: middle;\n",
       "    }\n",
       "\n",
       "    .dataframe tbody tr th {\n",
       "        vertical-align: top;\n",
       "    }\n",
       "\n",
       "    .dataframe thead th {\n",
       "        text-align: right;\n",
       "    }\n",
       "</style>\n",
       "<table border=\"1\" class=\"dataframe\">\n",
       "  <thead>\n",
       "    <tr style=\"text-align: right;\">\n",
       "      <th></th>\n",
       "      <th>TST1</th>\n",
       "      <th>TST2</th>\n",
       "      <th>TST3</th>\n",
       "    </tr>\n",
       "  </thead>\n",
       "  <tbody>\n",
       "    <tr>\n",
       "      <th>0</th>\n",
       "      <td>85</td>\n",
       "      <td>36.2</td>\n",
       "      <td>0.1685</td>\n",
       "    </tr>\n",
       "    <tr>\n",
       "      <th>1</th>\n",
       "      <td>86</td>\n",
       "      <td>37.8</td>\n",
       "      <td>NaN</td>\n",
       "    </tr>\n",
       "    <tr>\n",
       "      <th>2</th>\n",
       "      <td>29</td>\n",
       "      <td>39.9</td>\n",
       "      <td>0.1683</td>\n",
       "    </tr>\n",
       "  </tbody>\n",
       "</table>\n",
       "</div>"
      ],
      "text/plain": [
       "   TST1  TST2    TST3\n",
       "0    85  36.2  0.1685\n",
       "1    86  37.8     NaN\n",
       "2    29  39.9  0.1683"
      ]
     },
     "execution_count": 26,
     "metadata": {},
     "output_type": "execute_result"
    }
   ],
   "source": [
    "df"
   ]
  },
  {
   "cell_type": "code",
   "execution_count": 27,
   "id": "ce02da6a",
   "metadata": {},
   "outputs": [
    {
     "data": {
      "text/html": [
       "<div>\n",
       "<style scoped>\n",
       "    .dataframe tbody tr th:only-of-type {\n",
       "        vertical-align: middle;\n",
       "    }\n",
       "\n",
       "    .dataframe tbody tr th {\n",
       "        vertical-align: top;\n",
       "    }\n",
       "\n",
       "    .dataframe thead th {\n",
       "        text-align: right;\n",
       "    }\n",
       "</style>\n",
       "<table border=\"1\" class=\"dataframe\">\n",
       "  <thead>\n",
       "    <tr style=\"text-align: right;\">\n",
       "      <th></th>\n",
       "      <th>TST1</th>\n",
       "      <th>TST2</th>\n",
       "      <th>TST3</th>\n",
       "    </tr>\n",
       "  </thead>\n",
       "  <tbody>\n",
       "    <tr>\n",
       "      <th>0</th>\n",
       "      <td>NaN</td>\n",
       "      <td>NaN</td>\n",
       "      <td>NaN</td>\n",
       "    </tr>\n",
       "    <tr>\n",
       "      <th>1</th>\n",
       "      <td>0.011696</td>\n",
       "      <td>0.043250</td>\n",
       "      <td>0.000000</td>\n",
       "    </tr>\n",
       "    <tr>\n",
       "      <th>2</th>\n",
       "      <td>-1.087051</td>\n",
       "      <td>0.054067</td>\n",
       "      <td>-0.001188</td>\n",
       "    </tr>\n",
       "  </tbody>\n",
       "</table>\n",
       "</div>"
      ],
      "text/plain": [
       "       TST1      TST2      TST3\n",
       "0       NaN       NaN       NaN\n",
       "1  0.011696  0.043250  0.000000\n",
       "2 -1.087051  0.054067 -0.001188"
      ]
     },
     "execution_count": 27,
     "metadata": {},
     "output_type": "execute_result"
    }
   ],
   "source": [
    "ff.change_ln(df)"
   ]
  },
  {
   "cell_type": "code",
   "execution_count": null,
   "id": "bd64592a",
   "metadata": {},
   "outputs": [],
   "source": []
  }
 ],
 "metadata": {
  "kernelspec": {
   "display_name": "Python 3 (ipykernel)",
   "language": "python",
   "name": "python3"
  },
  "language_info": {
   "codemirror_mode": {
    "name": "ipython",
    "version": 3
   },
   "file_extension": ".py",
   "mimetype": "text/x-python",
   "name": "python",
   "nbconvert_exporter": "python",
   "pygments_lexer": "ipython3",
   "version": "3.9.13"
  }
 },
 "nbformat": 4,
 "nbformat_minor": 5
}
