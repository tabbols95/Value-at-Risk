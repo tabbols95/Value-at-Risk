{
 "cells": [
  {
   "cell_type": "code",
   "execution_count": 1,
   "id": "e601d317",
   "metadata": {},
   "outputs": [],
   "source": [
    "import pandas as pd\n",
    "import finance_func as ff"
   ]
  },
  {
   "cell_type": "code",
   "execution_count": 2,
   "id": "1cc2ae05",
   "metadata": {},
   "outputs": [],
   "source": [
    "df = pd.read_csv('BYN_RC_F01_01_2005_T31_12_2018.csv')"
   ]
  },
  {
   "cell_type": "code",
   "execution_count": 3,
   "id": "1fd6c16e",
   "metadata": {},
   "outputs": [
    {
     "data": {
      "text/html": [
       "<div>\n",
       "<style scoped>\n",
       "    .dataframe tbody tr th:only-of-type {\n",
       "        vertical-align: middle;\n",
       "    }\n",
       "\n",
       "    .dataframe tbody tr th {\n",
       "        vertical-align: top;\n",
       "    }\n",
       "\n",
       "    .dataframe thead th {\n",
       "        text-align: right;\n",
       "    }\n",
       "</style>\n",
       "<table border=\"1\" class=\"dataframe\">\n",
       "  <thead>\n",
       "    <tr style=\"text-align: right;\">\n",
       "      <th></th>\n",
       "      <th>nominal</th>\n",
       "      <th>data</th>\n",
       "      <th>curs</th>\n",
       "      <th>cdx</th>\n",
       "    </tr>\n",
       "  </thead>\n",
       "  <tbody>\n",
       "    <tr>\n",
       "      <th>0</th>\n",
       "      <td>1</td>\n",
       "      <td>2018-12-30</td>\n",
       "      <td>32.0732</td>\n",
       "      <td>Белорусский рубль</td>\n",
       "    </tr>\n",
       "    <tr>\n",
       "      <th>1</th>\n",
       "      <td>1</td>\n",
       "      <td>2018-12-29</td>\n",
       "      <td>32.1935</td>\n",
       "      <td>Белорусский рубль</td>\n",
       "    </tr>\n",
       "    <tr>\n",
       "      <th>2</th>\n",
       "      <td>1</td>\n",
       "      <td>2018-12-28</td>\n",
       "      <td>32.0503</td>\n",
       "      <td>Белорусский рубль</td>\n",
       "    </tr>\n",
       "    <tr>\n",
       "      <th>3</th>\n",
       "      <td>1</td>\n",
       "      <td>2018-12-27</td>\n",
       "      <td>32.0805</td>\n",
       "      <td>Белорусский рубль</td>\n",
       "    </tr>\n",
       "    <tr>\n",
       "      <th>4</th>\n",
       "      <td>1</td>\n",
       "      <td>2018-12-26</td>\n",
       "      <td>32.1237</td>\n",
       "      <td>Белорусский рубль</td>\n",
       "    </tr>\n",
       "  </tbody>\n",
       "</table>\n",
       "</div>"
      ],
      "text/plain": [
       "   nominal        data     curs                cdx\n",
       "0        1  2018-12-30  32.0732  Белорусский рубль\n",
       "1        1  2018-12-29  32.1935  Белорусский рубль\n",
       "2        1  2018-12-28  32.0503  Белорусский рубль\n",
       "3        1  2018-12-27  32.0805  Белорусский рубль\n",
       "4        1  2018-12-26  32.1237  Белорусский рубль"
      ]
     },
     "execution_count": 3,
     "metadata": {},
     "output_type": "execute_result"
    }
   ],
   "source": [
    "df.head()"
   ]
  },
  {
   "cell_type": "code",
   "execution_count": 4,
   "id": "f3f3865a",
   "metadata": {},
   "outputs": [
    {
     "name": "stdout",
     "output_type": "stream",
     "text": [
      "<class 'pandas.core.frame.DataFrame'>\n",
      "RangeIndex: 3472 entries, 0 to 3471\n",
      "Data columns (total 4 columns):\n",
      " #   Column   Non-Null Count  Dtype  \n",
      "---  ------   --------------  -----  \n",
      " 0   nominal  3472 non-null   int64  \n",
      " 1   data     3472 non-null   object \n",
      " 2   curs     3472 non-null   float64\n",
      " 3   cdx      3472 non-null   object \n",
      "dtypes: float64(1), int64(1), object(2)\n",
      "memory usage: 108.6+ KB\n"
     ]
    }
   ],
   "source": [
    "df.info()"
   ]
  },
  {
   "cell_type": "code",
   "execution_count": 5,
   "id": "ba9db9e7",
   "metadata": {},
   "outputs": [],
   "source": [
    "df['data'] = pd.to_datetime(df.data, format='%Y-%m-%d')"
   ]
  },
  {
   "cell_type": "code",
   "execution_count": 6,
   "id": "3356fd6e",
   "metadata": {},
   "outputs": [],
   "source": [
    "# Посмотрим волатильность курса за 2018 год\n",
    "df_curs_2018 = df \\\n",
    "    .assign(year=df.data.dt.year) \\\n",
    "    .query('year==2018') \\\n",
    "    .sort_values('data', ascending=True)[['curs']] \\\n",
    "    .reset_index(drop=True)"
   ]
  },
  {
   "cell_type": "code",
   "execution_count": 7,
   "id": "4f52a35d",
   "metadata": {},
   "outputs": [],
   "source": [
    "arr_volat = ff.volatility(df_curs_2018).values"
   ]
  },
  {
   "cell_type": "code",
   "execution_count": 9,
   "id": "23265c94",
   "metadata": {},
   "outputs": [
    {
     "data": {
      "text/plain": [
       "array([0.57272042])"
      ]
     },
     "execution_count": 9,
     "metadata": {},
     "output_type": "execute_result"
    }
   ],
   "source": [
    "arr_volat"
   ]
  },
  {
   "cell_type": "code",
   "execution_count": null,
   "id": "6f152393",
   "metadata": {},
   "outputs": [],
   "source": []
  }
 ],
 "metadata": {
  "kernelspec": {
   "display_name": "Python 3 (ipykernel)",
   "language": "python",
   "name": "python3"
  },
  "language_info": {
   "codemirror_mode": {
    "name": "ipython",
    "version": 3
   },
   "file_extension": ".py",
   "mimetype": "text/x-python",
   "name": "python",
   "nbconvert_exporter": "python",
   "pygments_lexer": "ipython3",
   "version": "3.9.13"
  }
 },
 "nbformat": 4,
 "nbformat_minor": 5
}
